{
 "cells": [
  {
   "cell_type": "markdown",
   "metadata": {},
   "source": [
    "# Step 0: Imports and Loading the Data"
   ]
  },
  {
   "cell_type": "code",
   "execution_count": 1,
   "metadata": {},
   "outputs": [
    {
     "name": "stderr",
     "output_type": "stream",
     "text": [
      "[nltk_data] Downloading package stopwords to\n",
      "[nltk_data]     C:\\Users\\jphillips3\\AppData\\Roaming\\nltk_data...\n",
      "[nltk_data]   Package stopwords is already up-to-date!\n",
      "[nltk_data] Downloading package wordnet to\n",
      "[nltk_data]     C:\\Users\\jphillips3\\AppData\\Roaming\\nltk_data...\n",
      "[nltk_data]   Package wordnet is already up-to-date!\n"
     ]
    },
    {
     "data": {
      "text/plain": [
       "True"
      ]
     },
     "execution_count": 1,
     "metadata": {},
     "output_type": "execute_result"
    }
   ],
   "source": [
    "# Imports\n",
    "import numpy as np\n",
    "import pandas as pd\n",
    "import matplotlib.pyplot as plt\n",
    "from scipy import stats\n",
    "import statsmodels.api as sm\n",
    "from sklearn.linear_model import LinearRegression, LassoCV, RidgeCV, ElasticNetCV\n",
    "from sklearn.model_selection import train_test_split, cross_val_score\n",
    "from sklearn import ensemble, neighbors\n",
    "import string\n",
    "\n",
    "import itertools\n",
    "import warnings\n",
    "warnings.filterwarnings('ignore')\n",
    "%matplotlib inline\n",
    "\n",
    "import spacy\n",
    "import nltk\n",
    "from nltk.corpus import stopwords\n",
    "from nltk.tokenize import RegexpTokenizer\n",
    "from nltk.stem import WordNetLemmatizer\n",
    "from nltk.stem.porter import PorterStemmer\n",
    "\n",
    "nltk.download('stopwords')\n",
    "nltk.download('wordnet')"
   ]
  },
  {
   "cell_type": "code",
   "execution_count": 2,
   "metadata": {},
   "outputs": [
    {
     "name": "stdout",
     "output_type": "stream",
     "text": [
      "Requirement already satisfied: spacy in c:\\users\\jphillips3\\anaconda3\\lib\\site-packages (3.0.3)\n",
      "Requirement already satisfied: packaging>=20.0 in c:\\users\\jphillips3\\anaconda3\\lib\\site-packages (from spacy) (20.4)\n",
      "Requirement already satisfied: jinja2 in c:\\users\\jphillips3\\anaconda3\\lib\\site-packages (from spacy) (2.11.2)\n",
      "Requirement already satisfied: catalogue<2.1.0,>=2.0.1 in c:\\users\\jphillips3\\anaconda3\\lib\\site-packages (from spacy) (2.0.1)\n",
      "Requirement already satisfied: wasabi<1.1.0,>=0.8.1 in c:\\users\\jphillips3\\anaconda3\\lib\\site-packages (from spacy) (0.8.2)\n",
      "Requirement already satisfied: thinc<8.1.0,>=8.0.0 in c:\\users\\jphillips3\\anaconda3\\lib\\site-packages (from spacy) (8.0.1)\n",
      "Requirement already satisfied: numpy>=1.15.0 in c:\\users\\jphillips3\\anaconda3\\lib\\site-packages (from spacy) (1.19.2)\n",
      "Requirement already satisfied: spacy-legacy<3.1.0,>=3.0.0 in c:\\users\\jphillips3\\anaconda3\\lib\\site-packages (from spacy) (3.0.1)\n",
      "Requirement already satisfied: requests<3.0.0,>=2.13.0 in c:\\users\\jphillips3\\anaconda3\\lib\\site-packages (from spacy) (2.24.0)\n",
      "Requirement already satisfied: preshed<3.1.0,>=3.0.2 in c:\\users\\jphillips3\\anaconda3\\lib\\site-packages (from spacy) (3.0.5)\n",
      "Requirement already satisfied: pathy in c:\\users\\jphillips3\\anaconda3\\lib\\site-packages (from spacy) (0.4.0)\n",
      "Requirement already satisfied: setuptools in c:\\users\\jphillips3\\anaconda3\\lib\\site-packages (from spacy) (50.3.1.post20201107)\n",
      "Requirement already satisfied: cymem<2.1.0,>=2.0.2 in c:\\users\\jphillips3\\anaconda3\\lib\\site-packages (from spacy) (2.0.5)\n",
      "Requirement already satisfied: pydantic<1.8.0,>=1.7.1 in c:\\users\\jphillips3\\anaconda3\\lib\\site-packages (from spacy) (1.7.3)\n",
      "Requirement already satisfied: typer<0.4.0,>=0.3.0 in c:\\users\\jphillips3\\anaconda3\\lib\\site-packages (from spacy) (0.3.2)\n",
      "Requirement already satisfied: tqdm<5.0.0,>=4.38.0 in c:\\users\\jphillips3\\anaconda3\\lib\\site-packages (from spacy) (4.50.2)\n",
      "Requirement already satisfied: blis<0.8.0,>=0.4.0 in c:\\users\\jphillips3\\anaconda3\\lib\\site-packages (from spacy) (0.7.4)\n",
      "Requirement already satisfied: murmurhash<1.1.0,>=0.28.0 in c:\\users\\jphillips3\\anaconda3\\lib\\site-packages (from spacy) (1.0.5)\n",
      "Requirement already satisfied: srsly<3.0.0,>=2.4.0 in c:\\users\\jphillips3\\anaconda3\\lib\\site-packages (from spacy) (2.4.0)\n",
      "Requirement already satisfied: pyparsing>=2.0.2 in c:\\users\\jphillips3\\anaconda3\\lib\\site-packages (from packaging>=20.0->spacy) (2.4.7)\n",
      "Requirement already satisfied: six in c:\\users\\jphillips3\\anaconda3\\lib\\site-packages (from packaging>=20.0->spacy) (1.15.0)\n",
      "Requirement already satisfied: MarkupSafe>=0.23 in c:\\users\\jphillips3\\anaconda3\\lib\\site-packages (from jinja2->spacy) (1.1.1)\n",
      "Requirement already satisfied: chardet<4,>=3.0.2 in c:\\users\\jphillips3\\anaconda3\\lib\\site-packages (from requests<3.0.0,>=2.13.0->spacy) (3.0.4)\n",
      "Requirement already satisfied: certifi>=2017.4.17 in c:\\users\\jphillips3\\anaconda3\\lib\\site-packages (from requests<3.0.0,>=2.13.0->spacy) (2020.6.20)\n",
      "Requirement already satisfied: urllib3!=1.25.0,!=1.25.1,<1.26,>=1.21.1 in c:\\users\\jphillips3\\anaconda3\\lib\\site-packages (from requests<3.0.0,>=2.13.0->spacy) (1.25.11)\n",
      "Requirement already satisfied: idna<3,>=2.5 in c:\\users\\jphillips3\\anaconda3\\lib\\site-packages (from requests<3.0.0,>=2.13.0->spacy) (2.10)\n",
      "Requirement already satisfied: smart-open<4.0.0,>=2.2.0 in c:\\users\\jphillips3\\anaconda3\\lib\\site-packages (from pathy->spacy) (3.0.0)\n",
      "Requirement already satisfied: click<7.2.0,>=7.1.1 in c:\\users\\jphillips3\\anaconda3\\lib\\site-packages (from typer<0.4.0,>=0.3.0->spacy) (7.1.2)\n",
      "Requirement already satisfied: en-core-web-sm==3.0.0 from https://github.com/explosion/spacy-models/releases/download/en_core_web_sm-3.0.0/en_core_web_sm-3.0.0-py3-none-any.whl#egg=en_core_web_sm==3.0.0 in c:\\users\\jphillips3\\anaconda3\\lib\\site-packages (3.0.0)\n",
      "Requirement already satisfied: spacy<3.1.0,>=3.0.0 in c:\\users\\jphillips3\\anaconda3\\lib\\site-packages (from en-core-web-sm==3.0.0) (3.0.3)\n",
      "Requirement already satisfied: murmurhash<1.1.0,>=0.28.0 in c:\\users\\jphillips3\\anaconda3\\lib\\site-packages (from spacy<3.1.0,>=3.0.0->en-core-web-sm==3.0.0) (1.0.5)\n",
      "Requirement already satisfied: cymem<2.1.0,>=2.0.2 in c:\\users\\jphillips3\\anaconda3\\lib\\site-packages (from spacy<3.1.0,>=3.0.0->en-core-web-sm==3.0.0) (2.0.5)\n",
      "Requirement already satisfied: blis<0.8.0,>=0.4.0 in c:\\users\\jphillips3\\anaconda3\\lib\\site-packages (from spacy<3.1.0,>=3.0.0->en-core-web-sm==3.0.0) (0.7.4)\n",
      "Requirement already satisfied: catalogue<2.1.0,>=2.0.1 in c:\\users\\jphillips3\\anaconda3\\lib\\site-packages (from spacy<3.1.0,>=3.0.0->en-core-web-sm==3.0.0) (2.0.1)\n",
      "Requirement already satisfied: packaging>=20.0 in c:\\users\\jphillips3\\anaconda3\\lib\\site-packages (from spacy<3.1.0,>=3.0.0->en-core-web-sm==3.0.0) (20.4)\n",
      "Requirement already satisfied: pathy in c:\\users\\jphillips3\\anaconda3\\lib\\site-packages (from spacy<3.1.0,>=3.0.0->en-core-web-sm==3.0.0) (0.4.0)\n",
      "Requirement already satisfied: thinc<8.1.0,>=8.0.0 in c:\\users\\jphillips3\\anaconda3\\lib\\site-packages (from spacy<3.1.0,>=3.0.0->en-core-web-sm==3.0.0) (8.0.1)\n",
      "Requirement already satisfied: requests<3.0.0,>=2.13.0 in c:\\users\\jphillips3\\anaconda3\\lib\\site-packages (from spacy<3.1.0,>=3.0.0->en-core-web-sm==3.0.0) (2.24.0)\n",
      "Requirement already satisfied: tqdm<5.0.0,>=4.38.0 in c:\\users\\jphillips3\\anaconda3\\lib\\site-packages (from spacy<3.1.0,>=3.0.0->en-core-web-sm==3.0.0) (4.50.2)\n",
      "Requirement already satisfied: setuptools in c:\\users\\jphillips3\\anaconda3\\lib\\site-packages (from spacy<3.1.0,>=3.0.0->en-core-web-sm==3.0.0) (50.3.1.post20201107)\n",
      "Requirement already satisfied: spacy-legacy<3.1.0,>=3.0.0 in c:\\users\\jphillips3\\anaconda3\\lib\\site-packages (from spacy<3.1.0,>=3.0.0->en-core-web-sm==3.0.0) (3.0.1)\n",
      "Requirement already satisfied: jinja2 in c:\\users\\jphillips3\\anaconda3\\lib\\site-packages (from spacy<3.1.0,>=3.0.0->en-core-web-sm==3.0.0) (2.11.2)\n",
      "Requirement already satisfied: numpy>=1.15.0 in c:\\users\\jphillips3\\anaconda3\\lib\\site-packages (from spacy<3.1.0,>=3.0.0->en-core-web-sm==3.0.0) (1.19.2)\n",
      "Requirement already satisfied: pydantic<1.8.0,>=1.7.1 in c:\\users\\jphillips3\\anaconda3\\lib\\site-packages (from spacy<3.1.0,>=3.0.0->en-core-web-sm==3.0.0) (1.7.3)\n",
      "Requirement already satisfied: srsly<3.0.0,>=2.4.0 in c:\\users\\jphillips3\\anaconda3\\lib\\site-packages (from spacy<3.1.0,>=3.0.0->en-core-web-sm==3.0.0) (2.4.0)\n",
      "Requirement already satisfied: preshed<3.1.0,>=3.0.2 in c:\\users\\jphillips3\\anaconda3\\lib\\site-packages (from spacy<3.1.0,>=3.0.0->en-core-web-sm==3.0.0) (3.0.5)\n",
      "Requirement already satisfied: wasabi<1.1.0,>=0.8.1 in c:\\users\\jphillips3\\anaconda3\\lib\\site-packages (from spacy<3.1.0,>=3.0.0->en-core-web-sm==3.0.0) (0.8.2)\n",
      "Requirement already satisfied: typer<0.4.0,>=0.3.0 in c:\\users\\jphillips3\\anaconda3\\lib\\site-packages (from spacy<3.1.0,>=3.0.0->en-core-web-sm==3.0.0) (0.3.2)\n",
      "Requirement already satisfied: pyparsing>=2.0.2 in c:\\users\\jphillips3\\anaconda3\\lib\\site-packages (from packaging>=20.0->spacy<3.1.0,>=3.0.0->en-core-web-sm==3.0.0) (2.4.7)\n",
      "Requirement already satisfied: six in c:\\users\\jphillips3\\anaconda3\\lib\\site-packages (from packaging>=20.0->spacy<3.1.0,>=3.0.0->en-core-web-sm==3.0.0) (1.15.0)\n",
      "Requirement already satisfied: smart-open<4.0.0,>=2.2.0 in c:\\users\\jphillips3\\anaconda3\\lib\\site-packages (from pathy->spacy<3.1.0,>=3.0.0->en-core-web-sm==3.0.0) (3.0.0)\n",
      "Requirement already satisfied: idna<3,>=2.5 in c:\\users\\jphillips3\\anaconda3\\lib\\site-packages (from requests<3.0.0,>=2.13.0->spacy<3.1.0,>=3.0.0->en-core-web-sm==3.0.0) (2.10)\n",
      "Requirement already satisfied: certifi>=2017.4.17 in c:\\users\\jphillips3\\anaconda3\\lib\\site-packages (from requests<3.0.0,>=2.13.0->spacy<3.1.0,>=3.0.0->en-core-web-sm==3.0.0) (2020.6.20)\n",
      "Requirement already satisfied: urllib3!=1.25.0,!=1.25.1,<1.26,>=1.21.1 in c:\\users\\jphillips3\\anaconda3\\lib\\site-packages (from requests<3.0.0,>=2.13.0->spacy<3.1.0,>=3.0.0->en-core-web-sm==3.0.0) (1.25.11)\n",
      "Requirement already satisfied: chardet<4,>=3.0.2 in c:\\users\\jphillips3\\anaconda3\\lib\\site-packages (from requests<3.0.0,>=2.13.0->spacy<3.1.0,>=3.0.0->en-core-web-sm==3.0.0) (3.0.4)\n",
      "Requirement already satisfied: MarkupSafe>=0.23 in c:\\users\\jphillips3\\anaconda3\\lib\\site-packages (from jinja2->spacy<3.1.0,>=3.0.0->en-core-web-sm==3.0.0) (1.1.1)\n",
      "Requirement already satisfied: click<7.2.0,>=7.1.1 in c:\\users\\jphillips3\\anaconda3\\lib\\site-packages (from typer<0.4.0,>=0.3.0->spacy<3.1.0,>=3.0.0->en-core-web-sm==3.0.0) (7.1.2)\n",
      "[!] As of spaCy v3.0, shortcuts like 'en' are deprecated. Pleaseuse the full\n",
      "pipeline package name 'en_core_web_sm' instead.\n",
      "[+] Download and installation successful\n",
      "You can now load the package via spacy.load('en_core_web_sm')\n"
     ]
    }
   ],
   "source": [
    "!pip install spacy\n",
    "\n",
    "!python -m spacy download en"
   ]
  },
  {
   "cell_type": "code",
   "execution_count": 3,
   "metadata": {},
   "outputs": [
    {
     "name": "stdout",
     "output_type": "stream",
     "text": [
      "Requirement already satisfied: nltk in c:\\users\\jphillips3\\anaconda3\\lib\\site-packages (3.5)\n",
      "Requirement already satisfied: regex in c:\\users\\jphillips3\\anaconda3\\lib\\site-packages (from nltk) (2020.10.15)\n",
      "Requirement already satisfied: tqdm in c:\\users\\jphillips3\\anaconda3\\lib\\site-packages (from nltk) (4.50.2)\n",
      "Requirement already satisfied: joblib in c:\\users\\jphillips3\\anaconda3\\lib\\site-packages (from nltk) (0.17.0)\n",
      "Requirement already satisfied: click in c:\\users\\jphillips3\\anaconda3\\lib\\site-packages (from nltk) (7.1.2)\n"
     ]
    }
   ],
   "source": [
    "!pip install nltk"
   ]
  },
  {
   "cell_type": "code",
   "execution_count": 4,
   "metadata": {},
   "outputs": [],
   "source": [
    "# Load the data\n",
    "listings = pd.read_csv('https://raw.githubusercontent.com/jphil-16/Thinkful_Projects_JDP/main/listings.csv')"
   ]
  },
  {
   "cell_type": "code",
   "execution_count": 5,
   "metadata": {},
   "outputs": [
    {
     "data": {
      "text/html": [
       "<div>\n",
       "<style scoped>\n",
       "    .dataframe tbody tr th:only-of-type {\n",
       "        vertical-align: middle;\n",
       "    }\n",
       "\n",
       "    .dataframe tbody tr th {\n",
       "        vertical-align: top;\n",
       "    }\n",
       "\n",
       "    .dataframe thead th {\n",
       "        text-align: right;\n",
       "    }\n",
       "</style>\n",
       "<table border=\"1\" class=\"dataframe\">\n",
       "  <thead>\n",
       "    <tr style=\"text-align: right;\">\n",
       "      <th></th>\n",
       "      <th>name</th>\n",
       "      <th>description</th>\n",
       "      <th>neighborhood_overview</th>\n",
       "      <th>host_response_time</th>\n",
       "      <th>host_is_superhost</th>\n",
       "      <th>neighbourhood_group_cleansed</th>\n",
       "      <th>room_type</th>\n",
       "      <th>accommodates</th>\n",
       "      <th>bathrooms_text</th>\n",
       "      <th>beds</th>\n",
       "      <th>amenities</th>\n",
       "      <th>price</th>\n",
       "      <th>number_of_reviews</th>\n",
       "      <th>last_review</th>\n",
       "      <th>review_scores_rating</th>\n",
       "      <th>instant_bookable</th>\n",
       "      <th>reviews_per_month</th>\n",
       "    </tr>\n",
       "  </thead>\n",
       "  <tbody>\n",
       "    <tr>\n",
       "      <th>0</th>\n",
       "      <td>Casa Madrona - Urban Oasis 1 block from the park!</td>\n",
       "      <td>Gorgeous, architect remodeled, Dutch Colonial ...</td>\n",
       "      <td>Madrona is a hidden gem of a neighborhood. It ...</td>\n",
       "      <td>within a day</td>\n",
       "      <td>t</td>\n",
       "      <td>Central Area</td>\n",
       "      <td>Entire home/apt</td>\n",
       "      <td>9</td>\n",
       "      <td>2.5 baths</td>\n",
       "      <td>4.0</td>\n",
       "      <td>[\"Children\\u2019s books and toys\", \"Iron\", \"Ha...</td>\n",
       "      <td>$295.00</td>\n",
       "      <td>32</td>\n",
       "      <td>2020-02-01</td>\n",
       "      <td>100.0</td>\n",
       "      <td>f</td>\n",
       "      <td>0.22</td>\n",
       "    </tr>\n",
       "    <tr>\n",
       "      <th>1</th>\n",
       "      <td>Glorious sun room w/ memory foambed</td>\n",
       "      <td>Keeping you safe is our priority, we are adher...</td>\n",
       "      <td>Lots of restaurants (see our guide book) bars,...</td>\n",
       "      <td>within a few hours</td>\n",
       "      <td>t</td>\n",
       "      <td>Other neighborhoods</td>\n",
       "      <td>Private room</td>\n",
       "      <td>2</td>\n",
       "      <td>3 shared baths</td>\n",
       "      <td>2.0</td>\n",
       "      <td>[\"Iron\", \"Hangers\", \"Lock on bedroom door\", \"H...</td>\n",
       "      <td>$55.00</td>\n",
       "      <td>148</td>\n",
       "      <td>2019-12-27</td>\n",
       "      <td>93.0</td>\n",
       "      <td>f</td>\n",
       "      <td>1.19</td>\n",
       "    </tr>\n",
       "    <tr>\n",
       "      <th>2</th>\n",
       "      <td>The Adorable Sweet Orange Craftsman</td>\n",
       "      <td>The Sweet Orange is a delightful and spacious ...</td>\n",
       "      <td>The neighborhood is awesome!  Just far enough ...</td>\n",
       "      <td>within a day</td>\n",
       "      <td>t</td>\n",
       "      <td>West Seattle</td>\n",
       "      <td>Entire home/apt</td>\n",
       "      <td>4</td>\n",
       "      <td>1 bath</td>\n",
       "      <td>3.0</td>\n",
       "      <td>[\"Iron\", \"TV\", \"Hangers\", \"Cable TV\", \"Private...</td>\n",
       "      <td>$155.00</td>\n",
       "      <td>40</td>\n",
       "      <td>2019-12-30</td>\n",
       "      <td>100.0</td>\n",
       "      <td>f</td>\n",
       "      <td>0.37</td>\n",
       "    </tr>\n",
       "    <tr>\n",
       "      <th>3</th>\n",
       "      <td>The Coolest Tangerine Dream MIL!</td>\n",
       "      <td>Welcome to my delicious Tangerine Dream!  A co...</td>\n",
       "      <td>The neighborhood is the best of two worlds...w...</td>\n",
       "      <td>within a day</td>\n",
       "      <td>t</td>\n",
       "      <td>West Seattle</td>\n",
       "      <td>Entire home/apt</td>\n",
       "      <td>3</td>\n",
       "      <td>1 bath</td>\n",
       "      <td>2.0</td>\n",
       "      <td>[\"Conditioner\", \"Iron\", \"TV\", \"Hangers\", \"Cabl...</td>\n",
       "      <td>$125.00</td>\n",
       "      <td>53</td>\n",
       "      <td>2020-08-31</td>\n",
       "      <td>100.0</td>\n",
       "      <td>f</td>\n",
       "      <td>0.50</td>\n",
       "    </tr>\n",
       "    <tr>\n",
       "      <th>4</th>\n",
       "      <td>the down home , spacious, central and fab!</td>\n",
       "      <td>We are in a great neighborhood, quiet, full of...</td>\n",
       "      <td>if you arrive early for check in at 3,  I reco...</td>\n",
       "      <td>within a few hours</td>\n",
       "      <td>f</td>\n",
       "      <td>Other neighborhoods</td>\n",
       "      <td>Entire home/apt</td>\n",
       "      <td>4</td>\n",
       "      <td>1 bath</td>\n",
       "      <td>4.0</td>\n",
       "      <td>[\"Iron\", \"TV\", \"Hangers\", \"Cable TV\", \"Hair dr...</td>\n",
       "      <td>$100.00</td>\n",
       "      <td>97</td>\n",
       "      <td>2020-09-28</td>\n",
       "      <td>91.0</td>\n",
       "      <td>f</td>\n",
       "      <td>0.85</td>\n",
       "    </tr>\n",
       "  </tbody>\n",
       "</table>\n",
       "</div>"
      ],
      "text/plain": [
       "                                                name  \\\n",
       "0  Casa Madrona - Urban Oasis 1 block from the park!   \n",
       "1                Glorious sun room w/ memory foambed   \n",
       "2                The Adorable Sweet Orange Craftsman   \n",
       "3                   The Coolest Tangerine Dream MIL!   \n",
       "4         the down home , spacious, central and fab!   \n",
       "\n",
       "                                         description  \\\n",
       "0  Gorgeous, architect remodeled, Dutch Colonial ...   \n",
       "1  Keeping you safe is our priority, we are adher...   \n",
       "2  The Sweet Orange is a delightful and spacious ...   \n",
       "3  Welcome to my delicious Tangerine Dream!  A co...   \n",
       "4  We are in a great neighborhood, quiet, full of...   \n",
       "\n",
       "                               neighborhood_overview  host_response_time  \\\n",
       "0  Madrona is a hidden gem of a neighborhood. It ...        within a day   \n",
       "1  Lots of restaurants (see our guide book) bars,...  within a few hours   \n",
       "2  The neighborhood is awesome!  Just far enough ...        within a day   \n",
       "3  The neighborhood is the best of two worlds...w...        within a day   \n",
       "4  if you arrive early for check in at 3,  I reco...  within a few hours   \n",
       "\n",
       "  host_is_superhost neighbourhood_group_cleansed        room_type  \\\n",
       "0                 t                 Central Area  Entire home/apt   \n",
       "1                 t          Other neighborhoods     Private room   \n",
       "2                 t                 West Seattle  Entire home/apt   \n",
       "3                 t                 West Seattle  Entire home/apt   \n",
       "4                 f          Other neighborhoods  Entire home/apt   \n",
       "\n",
       "   accommodates  bathrooms_text  beds  \\\n",
       "0             9       2.5 baths   4.0   \n",
       "1             2  3 shared baths   2.0   \n",
       "2             4          1 bath   3.0   \n",
       "3             3          1 bath   2.0   \n",
       "4             4          1 bath   4.0   \n",
       "\n",
       "                                           amenities    price  \\\n",
       "0  [\"Children\\u2019s books and toys\", \"Iron\", \"Ha...  $295.00   \n",
       "1  [\"Iron\", \"Hangers\", \"Lock on bedroom door\", \"H...   $55.00   \n",
       "2  [\"Iron\", \"TV\", \"Hangers\", \"Cable TV\", \"Private...  $155.00   \n",
       "3  [\"Conditioner\", \"Iron\", \"TV\", \"Hangers\", \"Cabl...  $125.00   \n",
       "4  [\"Iron\", \"TV\", \"Hangers\", \"Cable TV\", \"Hair dr...  $100.00   \n",
       "\n",
       "   number_of_reviews last_review  review_scores_rating instant_bookable  \\\n",
       "0                 32  2020-02-01                 100.0                f   \n",
       "1                148  2019-12-27                  93.0                f   \n",
       "2                 40  2019-12-30                 100.0                f   \n",
       "3                 53  2020-08-31                 100.0                f   \n",
       "4                 97  2020-09-28                  91.0                f   \n",
       "\n",
       "   reviews_per_month  \n",
       "0               0.22  \n",
       "1               1.19  \n",
       "2               0.37  \n",
       "3               0.50  \n",
       "4               0.85  "
      ]
     },
     "execution_count": 5,
     "metadata": {},
     "output_type": "execute_result"
    }
   ],
   "source": [
    "# Drop the features that won't be used\n",
    "listings = listings.drop(columns=['id', 'listing_url', 'scrape_id', 'last_scraped',\n",
    "       'picture_url', 'host_id', 'host_url',\n",
    "       'host_name', 'host_since', 'host_location', 'host_about', 'host_response_rate', 'host_acceptance_rate', 'host_thumbnail_url', 'host_picture_url',\n",
    "       'host_neighbourhood', 'host_listings_count',\n",
    "       'host_total_listings_count', 'host_verifications',\n",
    "       'host_has_profile_pic', 'host_identity_verified', 'neighbourhood',\n",
    "       'neighbourhood_cleansed', 'latitude',\n",
    "       'longitude', 'property_type', 'bathrooms', 'bedrooms',\n",
    "       'minimum_nights', 'maximum_nights', 'minimum_minimum_nights',\n",
    "       'maximum_minimum_nights', 'minimum_maximum_nights',\n",
    "       'maximum_maximum_nights', 'minimum_nights_avg_ntm',\n",
    "       'maximum_nights_avg_ntm', 'calendar_updated', 'has_availability',\n",
    "       'availability_30', 'availability_60', 'availability_90',\n",
    "       'availability_365', 'calendar_last_scraped',\n",
    "       'number_of_reviews_ltm', 'number_of_reviews_l30d', 'first_review', 'review_scores_accuracy',\n",
    "       'review_scores_cleanliness', 'review_scores_checkin',\n",
    "       'review_scores_communication', 'review_scores_location',\n",
    "       'review_scores_value', 'license',\n",
    "       'calculated_host_listings_count',\n",
    "       'calculated_host_listings_count_entire_homes',\n",
    "       'calculated_host_listings_count_private_rooms',\n",
    "       'calculated_host_listings_count_shared_rooms'])\n",
    "\n",
    "# Take a quick look at the data\n",
    "listings.head()"
   ]
  },
  {
   "cell_type": "code",
   "execution_count": 6,
   "metadata": {},
   "outputs": [
    {
     "data": {
      "text/plain": [
       "Index(['name', 'description', 'neighborhood_overview', 'host_response_time',\n",
       "       'host_is_superhost', 'neighbourhood_group_cleansed', 'room_type',\n",
       "       'accommodates', 'bathrooms_text', 'beds', 'amenities', 'price',\n",
       "       'number_of_reviews', 'last_review', 'review_scores_rating',\n",
       "       'instant_bookable', 'reviews_per_month'],\n",
       "      dtype='object')"
      ]
     },
     "execution_count": 6,
     "metadata": {},
     "output_type": "execute_result"
    }
   ],
   "source": [
    "# See what columns are left\n",
    "listings.columns"
   ]
  },
  {
   "cell_type": "markdown",
   "metadata": {},
   "source": [
    "# Step 1: Clean the Text Data"
   ]
  },
  {
   "cell_type": "code",
   "execution_count": 7,
   "metadata": {},
   "outputs": [],
   "source": [
    "# First things first - drop the rows that have empty values\n",
    "# We can afford this step because we will still have thousands of data entires\n",
    "listings = listings.dropna()\n",
    "listings.reset_index(drop = True, inplace = True)"
   ]
  },
  {
   "cell_type": "code",
   "execution_count": 8,
   "metadata": {},
   "outputs": [
    {
     "ename": "NameError",
     "evalue": "name 're' is not defined",
     "output_type": "error",
     "traceback": [
      "\u001b[1;31m---------------------------------------------------------------------------\u001b[0m",
      "\u001b[1;31mNameError\u001b[0m                                 Traceback (most recent call last)",
      "\u001b[1;32m<ipython-input-8-39748a0148eb>\u001b[0m in \u001b[0;36m<module>\u001b[1;34m\u001b[0m\n\u001b[0;32m      9\u001b[0m     \u001b[1;32mreturn\u001b[0m \u001b[0mtext\u001b[0m\u001b[1;33m\u001b[0m\u001b[1;33m\u001b[0m\u001b[0m\n\u001b[0;32m     10\u001b[0m \u001b[1;33m\u001b[0m\u001b[0m\n\u001b[1;32m---> 11\u001b[1;33m \u001b[0mlistings\u001b[0m\u001b[1;33m[\u001b[0m\u001b[1;34m\"description\"\u001b[0m\u001b[1;33m]\u001b[0m \u001b[1;33m=\u001b[0m \u001b[0mlistings\u001b[0m\u001b[1;33m[\u001b[0m\u001b[1;34m\"description\"\u001b[0m\u001b[1;33m]\u001b[0m\u001b[1;33m.\u001b[0m\u001b[0mapply\u001b[0m\u001b[1;33m(\u001b[0m\u001b[1;32mlambda\u001b[0m \u001b[0mx\u001b[0m\u001b[1;33m:\u001b[0m \u001b[0mtext_cleaner\u001b[0m\u001b[1;33m(\u001b[0m\u001b[0mx\u001b[0m\u001b[1;33m)\u001b[0m\u001b[1;33m)\u001b[0m\u001b[1;33m\u001b[0m\u001b[1;33m\u001b[0m\u001b[0m\n\u001b[0m\u001b[0;32m     12\u001b[0m \u001b[0mlistings\u001b[0m\u001b[1;33m[\u001b[0m\u001b[1;34m\"description\"\u001b[0m\u001b[1;33m]\u001b[0m\u001b[1;33m.\u001b[0m\u001b[0mhead\u001b[0m\u001b[1;33m(\u001b[0m\u001b[1;36m10\u001b[0m\u001b[1;33m)\u001b[0m\u001b[1;33m\u001b[0m\u001b[1;33m\u001b[0m\u001b[0m\n",
      "\u001b[1;32m~\\Anaconda3\\lib\\site-packages\\pandas\\core\\series.py\u001b[0m in \u001b[0;36mapply\u001b[1;34m(self, func, convert_dtype, args, **kwds)\u001b[0m\n\u001b[0;32m   4198\u001b[0m             \u001b[1;32melse\u001b[0m\u001b[1;33m:\u001b[0m\u001b[1;33m\u001b[0m\u001b[1;33m\u001b[0m\u001b[0m\n\u001b[0;32m   4199\u001b[0m                 \u001b[0mvalues\u001b[0m \u001b[1;33m=\u001b[0m \u001b[0mself\u001b[0m\u001b[1;33m.\u001b[0m\u001b[0mastype\u001b[0m\u001b[1;33m(\u001b[0m\u001b[0mobject\u001b[0m\u001b[1;33m)\u001b[0m\u001b[1;33m.\u001b[0m\u001b[0m_values\u001b[0m\u001b[1;33m\u001b[0m\u001b[1;33m\u001b[0m\u001b[0m\n\u001b[1;32m-> 4200\u001b[1;33m                 \u001b[0mmapped\u001b[0m \u001b[1;33m=\u001b[0m \u001b[0mlib\u001b[0m\u001b[1;33m.\u001b[0m\u001b[0mmap_infer\u001b[0m\u001b[1;33m(\u001b[0m\u001b[0mvalues\u001b[0m\u001b[1;33m,\u001b[0m \u001b[0mf\u001b[0m\u001b[1;33m,\u001b[0m \u001b[0mconvert\u001b[0m\u001b[1;33m=\u001b[0m\u001b[0mconvert_dtype\u001b[0m\u001b[1;33m)\u001b[0m\u001b[1;33m\u001b[0m\u001b[1;33m\u001b[0m\u001b[0m\n\u001b[0m\u001b[0;32m   4201\u001b[0m \u001b[1;33m\u001b[0m\u001b[0m\n\u001b[0;32m   4202\u001b[0m         \u001b[1;32mif\u001b[0m \u001b[0mlen\u001b[0m\u001b[1;33m(\u001b[0m\u001b[0mmapped\u001b[0m\u001b[1;33m)\u001b[0m \u001b[1;32mand\u001b[0m \u001b[0misinstance\u001b[0m\u001b[1;33m(\u001b[0m\u001b[0mmapped\u001b[0m\u001b[1;33m[\u001b[0m\u001b[1;36m0\u001b[0m\u001b[1;33m]\u001b[0m\u001b[1;33m,\u001b[0m \u001b[0mSeries\u001b[0m\u001b[1;33m)\u001b[0m\u001b[1;33m:\u001b[0m\u001b[1;33m\u001b[0m\u001b[1;33m\u001b[0m\u001b[0m\n",
      "\u001b[1;32mpandas\\_libs\\lib.pyx\u001b[0m in \u001b[0;36mpandas._libs.lib.map_infer\u001b[1;34m()\u001b[0m\n",
      "\u001b[1;32m<ipython-input-8-39748a0148eb>\u001b[0m in \u001b[0;36m<lambda>\u001b[1;34m(x)\u001b[0m\n\u001b[0;32m      9\u001b[0m     \u001b[1;32mreturn\u001b[0m \u001b[0mtext\u001b[0m\u001b[1;33m\u001b[0m\u001b[1;33m\u001b[0m\u001b[0m\n\u001b[0;32m     10\u001b[0m \u001b[1;33m\u001b[0m\u001b[0m\n\u001b[1;32m---> 11\u001b[1;33m \u001b[0mlistings\u001b[0m\u001b[1;33m[\u001b[0m\u001b[1;34m\"description\"\u001b[0m\u001b[1;33m]\u001b[0m \u001b[1;33m=\u001b[0m \u001b[0mlistings\u001b[0m\u001b[1;33m[\u001b[0m\u001b[1;34m\"description\"\u001b[0m\u001b[1;33m]\u001b[0m\u001b[1;33m.\u001b[0m\u001b[0mapply\u001b[0m\u001b[1;33m(\u001b[0m\u001b[1;32mlambda\u001b[0m \u001b[0mx\u001b[0m\u001b[1;33m:\u001b[0m \u001b[0mtext_cleaner\u001b[0m\u001b[1;33m(\u001b[0m\u001b[0mx\u001b[0m\u001b[1;33m)\u001b[0m\u001b[1;33m)\u001b[0m\u001b[1;33m\u001b[0m\u001b[1;33m\u001b[0m\u001b[0m\n\u001b[0m\u001b[0;32m     12\u001b[0m \u001b[0mlistings\u001b[0m\u001b[1;33m[\u001b[0m\u001b[1;34m\"description\"\u001b[0m\u001b[1;33m]\u001b[0m\u001b[1;33m.\u001b[0m\u001b[0mhead\u001b[0m\u001b[1;33m(\u001b[0m\u001b[1;36m10\u001b[0m\u001b[1;33m)\u001b[0m\u001b[1;33m\u001b[0m\u001b[1;33m\u001b[0m\u001b[0m\n",
      "\u001b[1;32m<ipython-input-8-39748a0148eb>\u001b[0m in \u001b[0;36mtext_cleaner\u001b[1;34m(text)\u001b[0m\n\u001b[0;32m      3\u001b[0m     \u001b[1;31m# Visual inspection identifies a form of punctuation that spaCy doesn't\u001b[0m\u001b[1;33m\u001b[0m\u001b[1;33m\u001b[0m\u001b[1;33m\u001b[0m\u001b[0m\n\u001b[0;32m      4\u001b[0m     \u001b[1;31m# recognize: the double dash '--'. Better get rid of it now!\u001b[0m\u001b[1;33m\u001b[0m\u001b[1;33m\u001b[0m\u001b[1;33m\u001b[0m\u001b[0m\n\u001b[1;32m----> 5\u001b[1;33m     \u001b[0mtext\u001b[0m \u001b[1;33m=\u001b[0m \u001b[0mre\u001b[0m\u001b[1;33m.\u001b[0m\u001b[0msub\u001b[0m\u001b[1;33m(\u001b[0m\u001b[1;34mr'--'\u001b[0m\u001b[1;33m,\u001b[0m\u001b[1;34m' '\u001b[0m\u001b[1;33m,\u001b[0m\u001b[0mtext\u001b[0m\u001b[1;33m)\u001b[0m\u001b[1;33m\u001b[0m\u001b[1;33m\u001b[0m\u001b[0m\n\u001b[0m\u001b[0;32m      6\u001b[0m     \u001b[0mtext\u001b[0m \u001b[1;33m=\u001b[0m \u001b[0mre\u001b[0m\u001b[1;33m.\u001b[0m\u001b[0msub\u001b[0m\u001b[1;33m(\u001b[0m\u001b[1;34m\"[\\[].*?[\\]]\"\u001b[0m\u001b[1;33m,\u001b[0m \u001b[1;34m\"\"\u001b[0m\u001b[1;33m,\u001b[0m \u001b[0mtext\u001b[0m\u001b[1;33m)\u001b[0m\u001b[1;33m\u001b[0m\u001b[1;33m\u001b[0m\u001b[0m\n\u001b[0;32m      7\u001b[0m     \u001b[0mtext\u001b[0m \u001b[1;33m=\u001b[0m \u001b[0mre\u001b[0m\u001b[1;33m.\u001b[0m\u001b[0msub\u001b[0m\u001b[1;33m(\u001b[0m\u001b[1;34mr\"(\\b|\\s+\\-?|^\\-?)(\\d+|\\d*\\.\\d+)\\b\"\u001b[0m\u001b[1;33m,\u001b[0m \u001b[1;34m\" \"\u001b[0m\u001b[1;33m,\u001b[0m \u001b[0mtext\u001b[0m\u001b[1;33m)\u001b[0m\u001b[1;33m\u001b[0m\u001b[1;33m\u001b[0m\u001b[0m\n",
      "\u001b[1;31mNameError\u001b[0m: name 're' is not defined"
     ]
    }
   ],
   "source": [
    "# Clean the text\n",
    "def text_cleaner(text):\n",
    "    # Visual inspection identifies a form of punctuation that spaCy doesn't\n",
    "    # recognize: the double dash '--'. Better get rid of it now!\n",
    "    text = re.sub(r'--',' ',text)\n",
    "    text = re.sub(\"[\\[].*?[\\]]\", \"\", text)\n",
    "    text = re.sub(r\"(\\b|\\s+\\-?|^\\-?)(\\d+|\\d*\\.\\d+)\\b\", \" \", text)\n",
    "    text = ' '.join(text.split())\n",
    "    return text\n",
    "\n",
    "listings[\"description\"] = listings[\"description\"].apply(lambda x: text_cleaner(x))\n",
    "listings[\"description\"].head(10)"
   ]
  },
  {
   "cell_type": "code",
   "execution_count": null,
   "metadata": {},
   "outputs": [],
   "source": [
    "listings[\"description\"].tail(20)"
   ]
  },
  {
   "cell_type": "code",
   "execution_count": 9,
   "metadata": {},
   "outputs": [
    {
     "data": {
      "text/plain": [
       "0    Gorgeous architect remodeled Dutch Colonial in...\n",
       "1    Keeping you safe is our priority we are adheri...\n",
       "2    The Sweet Orange is a delightful and spacious ...\n",
       "3    Welcome to my delicious Tangerine Dream  A col...\n",
       "4    We are in a great neighborhood quiet full of g...\n",
       "5    Our twobedroom home is nestled in a quiet neig...\n",
       "6    Make a request to stay for 5 day minimum and W...\n",
       "7    Great location in West Seattle Fully furnished...\n",
       "8    Step onto the private balcony of this condo fo...\n",
       "9    Social Distancing extra Covid precautions in p...\n",
       "Name: description, dtype: object"
      ]
     },
     "execution_count": 9,
     "metadata": {},
     "output_type": "execute_result"
    }
   ],
   "source": [
    "# remove punctuation\n",
    "def remove_punctuation(text):\n",
    "    no_punct = \"\".join([c for c in text if c not in string.punctuation])\n",
    "    return no_punct\n",
    "\n",
    "listings[\"description\"] = listings[\"description\"].apply(lambda x: remove_punctuation(x))\n",
    "listings[\"description\"].head(10)"
   ]
  },
  {
   "cell_type": "code",
   "execution_count": 10,
   "metadata": {},
   "outputs": [
    {
     "data": {
      "text/plain": [
       "0    [gorgeous, architect, remodeled, dutch, coloni...\n",
       "1    [keeping, you, safe, is, our, priority, we, ar...\n",
       "2    [the, sweet, orange, is, a, delightful, and, s...\n",
       "3    [welcome, to, my, delicious, tangerine, dream,...\n",
       "4    [we, are, in, a, great, neighborhood, quiet, f...\n",
       "5    [our, twobedroom, home, is, nestled, in, a, qu...\n",
       "6    [make, a, request, to, stay, for, 5, day, mini...\n",
       "7    [great, location, in, west, seattle, fully, fu...\n",
       "8    [step, onto, the, private, balcony, of, this, ...\n",
       "9    [social, distancing, extra, covid, precautions...\n",
       "Name: description, dtype: object"
      ]
     },
     "execution_count": 10,
     "metadata": {},
     "output_type": "execute_result"
    }
   ],
   "source": [
    "# tokenization\n",
    "tokenizer = RegexpTokenizer(r'\\w+')\n",
    "listings[\"description\"] = listings[\"description\"].apply(lambda x: tokenizer.tokenize(x.lower()))\n",
    "listings[\"description\"].head(10)"
   ]
  },
  {
   "cell_type": "code",
   "execution_count": 11,
   "metadata": {},
   "outputs": [
    {
     "data": {
      "text/plain": [
       "0    [gorgeous, architect, remodeled, dutch, coloni...\n",
       "1    [keeping, safe, priority, adhering, stringent,...\n",
       "2    [sweet, orange, delightful, spacious, 2, br1ba...\n",
       "3    [welcome, delicious, tangerine, dream, colorfu...\n",
       "4    [great, neighborhood, quiet, full, gardens, wa...\n",
       "5    [twobedroom, home, nestled, quiet, neighborhoo...\n",
       "6    [make, request, stay, 5, day, minimum, reduce,...\n",
       "7    [great, location, west, seattle, fully, furnis...\n",
       "8    [step, onto, private, balcony, condo, peekaboo...\n",
       "9    [social, distancing, extra, covid, precautions...\n",
       "Name: description, dtype: object"
      ]
     },
     "execution_count": 11,
     "metadata": {},
     "output_type": "execute_result"
    }
   ],
   "source": [
    "# Remove stop words\n",
    "def remove_stopwords(text):\n",
    "    words = [w for w in text if w not in stopwords.words('english')]\n",
    "    return words\n",
    "\n",
    "listings[\"description\"] = listings[\"description\"].apply(lambda x: remove_stopwords(x))\n",
    "listings[\"description\"].head(10)"
   ]
  },
  {
   "cell_type": "code",
   "execution_count": 12,
   "metadata": {},
   "outputs": [
    {
     "data": {
      "text/plain": [
       "0    gorgeou architect remodel dutch coloni heart m...\n",
       "1    keep safe prioriti adher stringent cdc guideli...\n",
       "2    sweet orang delight spaciou 2 br1ba home urban...\n",
       "3    welcom delici tangerin dream color cozi 900 sq...\n",
       "4    great neighborhood quiet full garden walkabl s...\n",
       "5    twobedroom home nestl quiet neighborhood north...\n",
       "6    make request stay 5 day minimum reduc cost 50 ...\n",
       "7    great locat west seattl fulli furnish common a...\n",
       "8    step onto privat balconi condo peekaboo view e...\n",
       "9    social distanc extra covid precaut place br gr...\n",
       "Name: description, dtype: object"
      ]
     },
     "execution_count": 12,
     "metadata": {},
     "output_type": "execute_result"
    }
   ],
   "source": [
    "# stemming\n",
    "stemmer = PorterStemmer()\n",
    "\n",
    "def word_stemmer(text):\n",
    "    stem_text = \" \".join([stemmer.stem(i) for i in text])\n",
    "    return stem_text\n",
    "\n",
    "listings[\"description\"] = listings[\"description\"].apply(lambda x: word_stemmer(x))\n",
    "listings[\"description\"].head(10)"
   ]
  },
  {
   "cell_type": "markdown",
   "metadata": {},
   "source": [
    "# Step 2: Clean the Numerical Data"
   ]
  },
  {
   "cell_type": "code",
   "execution_count": 13,
   "metadata": {},
   "outputs": [],
   "source": [
    "# Next we have to transform numerical columns that are currently in string form\n",
    "\n",
    "# The listing price needs to be converted from a string to a number\n",
    "listings['price'] = listings['price'].replace('[\\$,]', '', regex=True).astype(float)\n",
    "\n",
    "# The \"last review\" date needs the first 4 digits extracted to give us the year of the last review\n",
    "# We will use this to filter out abandoned listings later on\n",
    "year_last_review = pd.DataFrame([listings.loc[i,'last_review'][:4] for i in range(len(listings))])\n",
    "year_last_review.columns = ['year_last_review']\n",
    "listings = pd.concat([listings, year_last_review], axis = 1, sort = False)\n",
    "\n",
    "# The number of bathrooms is stored as text\n",
    "# This method of extracting the number treats full baths and half baths as the same\n",
    "num_baths = pd.DataFrame([listings.loc[i,'bathrooms_text'][:1] for i in range(len(listings))])\n",
    "num_baths.columns = ['num_baths']\n",
    "listings = pd.concat([listings, num_baths], axis = 1, sort = False)"
   ]
  },
  {
   "cell_type": "code",
   "execution_count": 14,
   "metadata": {},
   "outputs": [],
   "source": [
    "# We still need to transform the bathroom count from a string to an integer\n",
    "for i in range(len(listings)):\n",
    "  if listings.loc[i,'num_baths'] == 'H':\n",
    "    listings.loc[i, 'num_baths'] = 0\n",
    "  if listings.loc[i, 'num_baths'] == 'P':\n",
    "    listings.loc[i, 'num_baths'] = 0\n",
    "  if listings.loc[i, 'num_baths'] == 'S':\n",
    "    listings.loc[i, 'num_baths'] = 0\n",
    "  if listings.loc[i,'num_baths'] == '1':\n",
    "    listings.loc[i, 'num_baths'] = 1\n",
    "  if listings.loc[i, 'num_baths'] == '2':\n",
    "    listings.loc[i, 'num_baths'] = 2\n",
    "  if listings.loc[i, 'num_baths'] == '0':\n",
    "    listings.loc[i, 'num_baths'] = 0\n",
    "  if listings.loc[i,'num_baths'] == '3':\n",
    "    listings.loc[i, 'num_baths'] = 3\n",
    "  if listings.loc[i, 'num_baths'] == '4':\n",
    "    listings.loc[i, 'num_baths'] = 4\n",
    "  if listings.loc[i, 'num_baths'] == '5':\n",
    "    listings.loc[i, 'num_baths'] = 5\n",
    "  if listings.loc[i, 'num_baths'] == '6':\n",
    "    listings.loc[i, 'num_baths'] = 6\n",
    "  if listings.loc[i, 'num_baths'] == '7':\n",
    "    listings.loc[i, 'num_baths'] = 7"
   ]
  },
  {
   "cell_type": "code",
   "execution_count": 15,
   "metadata": {},
   "outputs": [],
   "source": [
    "# Next we take all of the features with categorical data and use one-hot encoding\n",
    "listings = pd.concat([listings,pd.get_dummies(listings.host_is_superhost, prefix=\"superhost\", drop_first=True)], axis=1)\n",
    "listings = pd.concat([listings,pd.get_dummies(listings.room_type, prefix=\"room_type\", drop_first=True)], axis=1)\n",
    "listings = pd.concat([listings,pd.get_dummies(listings.neighbourhood_group_cleansed, prefix=\"neighborhood\", drop_first=True)], axis=1)\n",
    "listings = pd.concat([listings,pd.get_dummies(listings.host_response_time, prefix=\"response_time\", drop_first=True)], axis=1)\n",
    "listings = pd.concat([listings,pd.get_dummies(listings.instant_bookable, prefix=\"instant_bookable\", drop_first=True)], axis=1)\n",
    "listings = pd.concat([listings,pd.get_dummies(listings.num_baths, prefix=\"num_baths\", drop_first=True)], axis=1)\n",
    "\n",
    "dummy_column_names = list(pd.get_dummies(listings.host_is_superhost, prefix=\"superhost\", drop_first=True).columns)\n",
    "dummy_column_names = dummy_column_names + list(pd.get_dummies(listings.room_type, prefix=\"room_type\", drop_first=True).columns)\n",
    "dummy_column_names = dummy_column_names + list(pd.get_dummies(listings.neighbourhood_group_cleansed, prefix=\"neighborhood\", drop_first=True).columns)\n",
    "dummy_column_names = dummy_column_names + list(pd.get_dummies(listings.host_response_time, prefix=\"response_time\", drop_first=True).columns)\n",
    "dummy_column_names = dummy_column_names + list(pd.get_dummies(listings.instant_bookable, prefix=\"instant_bookable\", drop_first=True).columns)\n",
    "dummy_column_names = dummy_column_names + list(pd.get_dummies(listings.num_baths, prefix=\"num_baths\", drop_first=True).columns)"
   ]
  },
  {
   "cell_type": "code",
   "execution_count": 16,
   "metadata": {},
   "outputs": [],
   "source": [
    "# Now we need to filter out data that we don't want\n",
    "\n",
    "# Filter on price first\n",
    "# Drop rows with expensive listings (We will use $400 as a manual cut-off)\n",
    "index_names_highprice = listings[listings['price'] > 400 ].index \n",
    "listings.drop(index_names_highprice, inplace = True)\n",
    "\n",
    "# Filter on room type\n",
    "# Drop rows with hotel rooms (there are very few of these and they are priced very differently)\n",
    "index_names_hotel = listings[listings['room_type_Hotel room'] == 1 ].index \n",
    "listings.drop(index_names_hotel, inplace = True)\n",
    "\n",
    "# Filter on last review date\n",
    "# Drop rows with no recent reviews (which represent abandoned listings)\n",
    "index_names_old = listings[listings['year_last_review'] != '2020' ].index \n",
    "listings.drop(index_names_old, inplace = True)"
   ]
  },
  {
   "cell_type": "markdown",
   "metadata": {},
   "source": [
    "# Step 3: Explore the Data"
   ]
  },
  {
   "cell_type": "code",
   "execution_count": 17,
   "metadata": {},
   "outputs": [
    {
     "data": {
      "text/plain": [
       "1975"
      ]
     },
     "execution_count": 17,
     "metadata": {},
     "output_type": "execute_result"
    }
   ],
   "source": [
    "len(listings)"
   ]
  },
  {
   "cell_type": "code",
   "execution_count": 18,
   "metadata": {},
   "outputs": [
    {
     "data": {
      "image/png": "[encoded data removed]",
      "text/plain": [
       "<Figure size 432x288 with 1 Axes>"
      ]
     },
     "metadata": {
      "needs_background": "light"
     },
     "output_type": "display_data"
    }
   ],
   "source": [
    "# Take a quick look at how the target variable is distrubted\n",
    "plt.hist(listings['price'], alpha = .5, bins = 20)\n",
    "plt.title('Listing Price Distribution')\n",
    "plt.xlabel('Nightly Rate')\n",
    "plt.ylabel('Number of Listings')\n",
    "plt.show()"
   ]
  },
  {
   "cell_type": "code",
   "execution_count": 19,
   "metadata": {},
   "outputs": [
    {
     "data": {
      "text/html": [
       "<div>\n",
       "<style scoped>\n",
       "    .dataframe tbody tr th:only-of-type {\n",
       "        vertical-align: middle;\n",
       "    }\n",
       "\n",
       "    .dataframe tbody tr th {\n",
       "        vertical-align: top;\n",
       "    }\n",
       "\n",
       "    .dataframe thead th {\n",
       "        text-align: right;\n",
       "    }\n",
       "</style>\n",
       "<table border=\"1\" class=\"dataframe\">\n",
       "  <thead>\n",
       "    <tr style=\"text-align: right;\">\n",
       "      <th></th>\n",
       "      <th>name</th>\n",
       "      <th>description</th>\n",
       "      <th>neighborhood_overview</th>\n",
       "      <th>host_response_time</th>\n",
       "      <th>host_is_superhost</th>\n",
       "      <th>neighbourhood_group_cleansed</th>\n",
       "      <th>room_type</th>\n",
       "      <th>accommodates</th>\n",
       "      <th>bathrooms_text</th>\n",
       "      <th>beds</th>\n",
       "      <th>...</th>\n",
       "      <th>response_time_within a day</th>\n",
       "      <th>response_time_within a few hours</th>\n",
       "      <th>response_time_within an hour</th>\n",
       "      <th>instant_bookable_t</th>\n",
       "      <th>num_baths_1</th>\n",
       "      <th>num_baths_2</th>\n",
       "      <th>num_baths_3</th>\n",
       "      <th>num_baths_4</th>\n",
       "      <th>num_baths_5</th>\n",
       "      <th>num_baths_6</th>\n",
       "    </tr>\n",
       "  </thead>\n",
       "  <tbody>\n",
       "    <tr>\n",
       "      <th>0</th>\n",
       "      <td>Casa Madrona - Urban Oasis 1 block from the park!</td>\n",
       "      <td>gorgeou architect remodel dutch coloni heart m...</td>\n",
       "      <td>Madrona is a hidden gem of a neighborhood. It ...</td>\n",
       "      <td>within a day</td>\n",
       "      <td>t</td>\n",
       "      <td>Central Area</td>\n",
       "      <td>Entire home/apt</td>\n",
       "      <td>9</td>\n",
       "      <td>2.5 baths</td>\n",
       "      <td>4.0</td>\n",
       "      <td>...</td>\n",
       "      <td>1</td>\n",
       "      <td>0</td>\n",
       "      <td>0</td>\n",
       "      <td>0</td>\n",
       "      <td>0</td>\n",
       "      <td>1</td>\n",
       "      <td>0</td>\n",
       "      <td>0</td>\n",
       "      <td>0</td>\n",
       "      <td>0</td>\n",
       "    </tr>\n",
       "    <tr>\n",
       "      <th>3</th>\n",
       "      <td>The Coolest Tangerine Dream MIL!</td>\n",
       "      <td>welcom delici tangerin dream color cozi 900 sq...</td>\n",
       "      <td>The neighborhood is the best of two worlds...w...</td>\n",
       "      <td>within a day</td>\n",
       "      <td>t</td>\n",
       "      <td>West Seattle</td>\n",
       "      <td>Entire home/apt</td>\n",
       "      <td>3</td>\n",
       "      <td>1 bath</td>\n",
       "      <td>2.0</td>\n",
       "      <td>...</td>\n",
       "      <td>1</td>\n",
       "      <td>0</td>\n",
       "      <td>0</td>\n",
       "      <td>0</td>\n",
       "      <td>1</td>\n",
       "      <td>0</td>\n",
       "      <td>0</td>\n",
       "      <td>0</td>\n",
       "      <td>0</td>\n",
       "      <td>0</td>\n",
       "    </tr>\n",
       "    <tr>\n",
       "      <th>4</th>\n",
       "      <td>the down home , spacious, central and fab!</td>\n",
       "      <td>great neighborhood quiet full garden walkabl s...</td>\n",
       "      <td>if you arrive early for check in at 3,  I reco...</td>\n",
       "      <td>within a few hours</td>\n",
       "      <td>f</td>\n",
       "      <td>Other neighborhoods</td>\n",
       "      <td>Entire home/apt</td>\n",
       "      <td>4</td>\n",
       "      <td>1 bath</td>\n",
       "      <td>4.0</td>\n",
       "      <td>...</td>\n",
       "      <td>0</td>\n",
       "      <td>1</td>\n",
       "      <td>0</td>\n",
       "      <td>0</td>\n",
       "      <td>1</td>\n",
       "      <td>0</td>\n",
       "      <td>0</td>\n",
       "      <td>0</td>\n",
       "      <td>0</td>\n",
       "      <td>0</td>\n",
       "    </tr>\n",
       "    <tr>\n",
       "      <th>8</th>\n",
       "      <td>Stylish Oasis in a Prime Location in Belltown</td>\n",
       "      <td>step onto privat balconi condo peekaboo view e...</td>\n",
       "      <td>The condo is in the lively neighborhood of Bel...</td>\n",
       "      <td>within an hour</td>\n",
       "      <td>t</td>\n",
       "      <td>Downtown</td>\n",
       "      <td>Entire home/apt</td>\n",
       "      <td>6</td>\n",
       "      <td>1 bath</td>\n",
       "      <td>2.0</td>\n",
       "      <td>...</td>\n",
       "      <td>0</td>\n",
       "      <td>0</td>\n",
       "      <td>1</td>\n",
       "      <td>1</td>\n",
       "      <td>1</td>\n",
       "      <td>0</td>\n",
       "      <td>0</td>\n",
       "      <td>0</td>\n",
       "      <td>0</td>\n",
       "      <td>0</td>\n",
       "    </tr>\n",
       "    <tr>\n",
       "      <th>9</th>\n",
       "      <td>Beautiful, Private Spot in Quiet Ballard</td>\n",
       "      <td>social distanc extra covid precaut place br gr...</td>\n",
       "      <td>Great walking neighborhood!  We are in between...</td>\n",
       "      <td>within an hour</td>\n",
       "      <td>t</td>\n",
       "      <td>Ballard</td>\n",
       "      <td>Entire home/apt</td>\n",
       "      <td>4</td>\n",
       "      <td>1 bath</td>\n",
       "      <td>2.0</td>\n",
       "      <td>...</td>\n",
       "      <td>0</td>\n",
       "      <td>0</td>\n",
       "      <td>1</td>\n",
       "      <td>1</td>\n",
       "      <td>1</td>\n",
       "      <td>0</td>\n",
       "      <td>0</td>\n",
       "      <td>0</td>\n",
       "      <td>0</td>\n",
       "      <td>0</td>\n",
       "    </tr>\n",
       "  </tbody>\n",
       "</table>\n",
       "<p>5 rows × 49 columns</p>\n",
       "</div>"
      ],
      "text/plain": [
       "                                                name  \\\n",
       "0  Casa Madrona - Urban Oasis 1 block from the park!   \n",
       "3                   The Coolest Tangerine Dream MIL!   \n",
       "4         the down home , spacious, central and fab!   \n",
       "8      Stylish Oasis in a Prime Location in Belltown   \n",
       "9           Beautiful, Private Spot in Quiet Ballard   \n",
       "\n",
       "                                         description  \\\n",
       "0  gorgeou architect remodel dutch coloni heart m...   \n",
       "3  welcom delici tangerin dream color cozi 900 sq...   \n",
       "4  great neighborhood quiet full garden walkabl s...   \n",
       "8  step onto privat balconi condo peekaboo view e...   \n",
       "9  social distanc extra covid precaut place br gr...   \n",
       "\n",
       "                               neighborhood_overview  host_response_time  \\\n",
       "0  Madrona is a hidden gem of a neighborhood. It ...        within a day   \n",
       "3  The neighborhood is the best of two worlds...w...        within a day   \n",
       "4  if you arrive early for check in at 3,  I reco...  within a few hours   \n",
       "8  The condo is in the lively neighborhood of Bel...      within an hour   \n",
       "9  Great walking neighborhood!  We are in between...      within an hour   \n",
       "\n",
       "  host_is_superhost neighbourhood_group_cleansed        room_type  \\\n",
       "0                 t                 Central Area  Entire home/apt   \n",
       "3                 t                 West Seattle  Entire home/apt   \n",
       "4                 f          Other neighborhoods  Entire home/apt   \n",
       "8                 t                     Downtown  Entire home/apt   \n",
       "9                 t                      Ballard  Entire home/apt   \n",
       "\n",
       "   accommodates bathrooms_text  beds  ... response_time_within a day  \\\n",
       "0             9      2.5 baths   4.0  ...                          1   \n",
       "3             3         1 bath   2.0  ...                          1   \n",
       "4             4         1 bath   4.0  ...                          0   \n",
       "8             6         1 bath   2.0  ...                          0   \n",
       "9             4         1 bath   2.0  ...                          0   \n",
       "\n",
       "   response_time_within a few hours  response_time_within an hour  \\\n",
       "0                                 0                             0   \n",
       "3                                 0                             0   \n",
       "4                                 1                             0   \n",
       "8                                 0                             1   \n",
       "9                                 0                             1   \n",
       "\n",
       "  instant_bookable_t  num_baths_1 num_baths_2  num_baths_3 num_baths_4  \\\n",
       "0                  0            0           1            0           0   \n",
       "3                  0            1           0            0           0   \n",
       "4                  0            1           0            0           0   \n",
       "8                  1            1           0            0           0   \n",
       "9                  1            1           0            0           0   \n",
       "\n",
       "  num_baths_5  num_baths_6  \n",
       "0           0            0  \n",
       "3           0            0  \n",
       "4           0            0  \n",
       "8           0            0  \n",
       "9           0            0  \n",
       "\n",
       "[5 rows x 49 columns]"
      ]
     },
     "execution_count": 19,
     "metadata": {},
     "output_type": "execute_result"
    }
   ],
   "source": [
    "# Let's take another quick look at what our data looks like after all that...\n",
    "listings.head()"
   ]
  },
  {
   "cell_type": "markdown",
   "metadata": {},
   "source": [
    "# Step 4a/5a: Use BoW to Convert the Text Features and generate models"
   ]
  },
  {
   "cell_type": "code",
   "execution_count": 20,
   "metadata": {},
   "outputs": [],
   "source": [
    "from sklearn.feature_extraction.text import CountVectorizer\n",
    "\n",
    "vectorizer = CountVectorizer(analyzer='word')\n",
    "X = vectorizer.fit_transform(listings[\"description\"])\n",
    "bow_df = pd.DataFrame(X.toarray(), columns=vectorizer.get_feature_names())\n",
    "descriptions = pd.concat([bow_df, listings[[\"description\", \"host_is_superhost\"]]], axis=1)"
   ]
  },
  {
   "cell_type": "code",
   "execution_count": 21,
   "metadata": {},
   "outputs": [],
   "source": [
    "descriptions = descriptions.dropna()"
   ]
  },
  {
   "cell_type": "code",
   "execution_count": 22,
   "metadata": {},
   "outputs": [
    {
     "name": "stdout",
     "output_type": "stream",
     "text": [
      "----------------------Logistic Regression Scores----------------------\n",
      "Training set score: 0.9937952430196484\n",
      "\n",
      "Test set score: 0.6124031007751938\n",
      "----------------------Random Forest Scores----------------------\n",
      "Training set score: 0.9948293691830403\n",
      "\n",
      "Test set score: 0.6790697674418604\n",
      "----------------------Gradient Boosting Scores----------------------\n",
      "Training set score: 0.8210961737331954\n",
      "\n",
      "Test set score: 0.6744186046511628\n"
     ]
    }
   ],
   "source": [
    "from sklearn.linear_model import LogisticRegression\n",
    "from sklearn.ensemble import RandomForestClassifier, GradientBoostingClassifier\n",
    "from sklearn.model_selection import train_test_split\n",
    "\n",
    "Y = descriptions['host_is_superhost']\n",
    "X = np.array(descriptions.drop(['description','host_is_superhost'], 1))\n",
    "\n",
    "# Split the dataset into training and test sets\n",
    "X_train, X_test, y_train, y_test = train_test_split(X, Y, test_size=0.4, random_state=123)\n",
    "\n",
    "# Models\n",
    "lr = LogisticRegression()\n",
    "rfc = RandomForestClassifier()\n",
    "gbc = GradientBoostingClassifier()\n",
    "\n",
    "lr.fit(X_train, y_train)\n",
    "rfc.fit(X_train, y_train)\n",
    "gbc.fit(X_train, y_train)\n",
    "\n",
    "print(\"----------------------Logistic Regression Scores----------------------\")\n",
    "print('Training set score:', lr.score(X_train, y_train))\n",
    "print('\\nTest set score:', lr.score(X_test, y_test))\n",
    "\n",
    "print(\"----------------------Random Forest Scores----------------------\")\n",
    "print('Training set score:', rfc.score(X_train, y_train))\n",
    "print('\\nTest set score:', rfc.score(X_test, y_test))\n",
    "\n",
    "print(\"----------------------Gradient Boosting Scores----------------------\")\n",
    "print('Training set score:', gbc.score(X_train, y_train))\n",
    "print('\\nTest set score:', gbc.score(X_test, y_test))"
   ]
  },
  {
   "cell_type": "markdown",
   "metadata": {},
   "source": [
    "# Step 4b/5b: Use TF-IDF to Convert the Text Features and generate models"
   ]
  },
  {
   "cell_type": "code",
   "execution_count": 23,
   "metadata": {},
   "outputs": [],
   "source": [
    "from sklearn.feature_extraction.text import TfidfVectorizer\n",
    "\n",
    "vectorizer = TfidfVectorizer(\n",
    "    max_df=0.5, min_df=2, use_idf=True, norm=u'l2', smooth_idf=True)\n",
    "\n",
    "\n",
    "# Applying the vectorizer\n",
    "X = vectorizer.fit_transform(listings[\"description\"])\n",
    "\n",
    "tfidf_df = pd.DataFrame(X.toarray(), columns=vectorizer.get_feature_names())\n",
    "descriptions = pd.concat([bow_df, listings[[\"description\", \"host_is_superhost\"]]], axis=1)"
   ]
  },
  {
   "cell_type": "code",
   "execution_count": 24,
   "metadata": {},
   "outputs": [],
   "source": [
    "descriptions = descriptions.dropna()"
   ]
  },
  {
   "cell_type": "code",
   "execution_count": 25,
   "metadata": {},
   "outputs": [
    {
     "name": "stdout",
     "output_type": "stream",
     "text": [
      "----------------------Logistic Regression Scores----------------------\n",
      "Training set score: 0.9937952430196484\n",
      "\n",
      "Test set score: 0.6124031007751938\n",
      "----------------------Random Forest Scores----------------------\n",
      "Training set score: 0.9948293691830403\n",
      "\n",
      "Test set score: 0.6821705426356589\n",
      "----------------------Gradient Boosting Scores----------------------\n",
      "Training set score: 0.8231644260599793\n",
      "\n",
      "Test set score: 0.6744186046511628\n"
     ]
    }
   ],
   "source": [
    "Y = descriptions['host_is_superhost']\n",
    "X = np.array(descriptions.drop(['description','host_is_superhost'], 1))\n",
    "\n",
    "# Split the dataset into training and test sets\n",
    "X_train, X_test, y_train, y_test = train_test_split(X, Y, test_size=0.4, random_state=123)\n",
    "\n",
    "# Models\n",
    "lr = LogisticRegression()\n",
    "rfc = RandomForestClassifier()\n",
    "gbc = GradientBoostingClassifier()\n",
    "\n",
    "lr.fit(X_train, y_train)\n",
    "rfc.fit(X_train, y_train)\n",
    "gbc.fit(X_train, y_train)\n",
    "\n",
    "print(\"----------------------Logistic Regression Scores----------------------\")\n",
    "print('Training set score:', lr.score(X_train, y_train))\n",
    "print('\\nTest set score:', lr.score(X_test, y_test))\n",
    "\n",
    "print(\"----------------------Random Forest Scores----------------------\")\n",
    "print('Training set score:', rfc.score(X_train, y_train))\n",
    "print('\\nTest set score:', rfc.score(X_test, y_test))\n",
    "\n",
    "print(\"----------------------Gradient Boosting Scores----------------------\")\n",
    "print('Training set score:', gbc.score(X_train, y_train))\n",
    "print('\\nTest set score:', gbc.score(X_test, y_test))"
   ]
  }
 ],
 "metadata": {
  "kernelspec": {
   "display_name": "Python 3",
   "language": "python",
   "name": "python3"
  },
  "language_info": {
   "codemirror_mode": {
    "name": "ipython",
    "version": 3
   },
   "file_extension": ".py",
   "mimetype": "text/x-python",
   "name": "python",
   "nbconvert_exporter": "python",
   "pygments_lexer": "ipython3",
   "version": "3.8.5"
  }
 },
 "nbformat": 4,
 "nbformat_minor": 4
}
